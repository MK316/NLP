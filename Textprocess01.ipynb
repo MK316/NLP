{
  "nbformat": 4,
  "nbformat_minor": 0,
  "metadata": {
    "colab": {
      "name": "TED2022.ipynb",
      "provenance": [],
      "collapsed_sections": [],
      "toc_visible": true,
      "authorship_tag": "ABX9TyPOSf1//yvL5Jv8IgMQ/82J",
      "include_colab_link": true
    },
    "kernelspec": {
      "name": "python3",
      "display_name": "Python 3"
    },
    "language_info": {
      "name": "python"
    }
  },
  "cells": [
    {
      "cell_type": "markdown",
      "metadata": {
        "id": "view-in-github",
        "colab_type": "text"
      },
      "source": [
        "<a href=\"https://colab.research.google.com/github/MK316/NLP/blob/main/Textprocess01.ipynb\" target=\"_parent\"><img src=\"https://colab.research.google.com/assets/colab-badge.svg\" alt=\"Open In Colab\"/></a>"
      ]
    },
    {
      "cell_type": "markdown",
      "source": [
        "# Import modules"
      ],
      "metadata": {
        "id": "ORxJdIaXabAX"
      }
    },
    {
      "cell_type": "code",
      "execution_count": null,
      "metadata": {
        "id": "4ot4lHS_aWVy"
      },
      "outputs": [],
      "source": [
        "import nltk\n",
        "from nltk.tokenize import word_tokenize, sent_tokenize"
      ]
    },
    {
      "cell_type": "code",
      "source": [
        "nltk.download(\"punkt\")"
      ],
      "metadata": {
        "id": "hNz-wAOgqv8w"
      },
      "execution_count": null,
      "outputs": []
    },
    {
      "cell_type": "markdown",
      "source": [
        "# Upload a file and specify the file name"
      ],
      "metadata": {
        "id": "LmMKQnahsHBW"
      }
    },
    {
      "cell_type": "code",
      "source": [
        "# data\n",
        "\n",
        "file = open(\"S2022TED.txt\")\n",
        "text = file.read().replace(\"\\n\", \" \")\n",
        "file.close()"
      ],
      "metadata": {
        "id": "nItorvkBrJx5"
      },
      "execution_count": null,
      "outputs": []
    },
    {
      "cell_type": "code",
      "source": [
        "# spltxt = text.split()\n",
        "# len(spltxt)"
      ],
      "metadata": {
        "id": "qKThrK2BriiP"
      },
      "execution_count": null,
      "outputs": []
    },
    {
      "cell_type": "code",
      "source": [
        "# ' '.join(spltxt)"
      ],
      "metadata": {
        "id": "y6Oq5W3O21tr"
      },
      "execution_count": null,
      "outputs": []
    },
    {
      "cell_type": "markdown",
      "source": [
        "# Text file = Chapter 1. The Visual Village\n",
        "Source: National Geographic Reading series"
      ],
      "metadata": {
        "id": "p5mg_O0U3RKE"
      }
    },
    {
      "cell_type": "code",
      "source": [
        "# text = \"\"\"\n",
        "# The visual village Before the age of the smartphone, \\\n",
        "# aspiring photographers had to learn how to use high-tech cameras and photographic techniques. \\\n",
        "# Not everyone had cameras, and it took skill and a good eye to capture and create a great photograph. Today, with the huge range of camera apps on our smartphones, we are all amateur photographers. And pretty good ones, too: The quality of smartphone images now nearly equals that of digital cameras. The new ease of photography has given us a tremendous appetite for capturing the magical and the ordinary. We are obsessed with documenting everyday moments, whether it’s a shot of our breakfast, our cat – or our cat’s breakfast. And rather than collect pictures in scrapbooks, we share, like, and comment on them with friends and strangers around the globe. Even photojournalists are experimenting with cell phones because their near invisibility makes it easier to capture unguarded media. They can now act as their own publishers – reaching huge audiences via social media sites such as Instagram. A photograph taken in New York can get a response from someone in Lagos within a second of being uploaded. In the past, magazines published unforgettable photos of important people and global events that captured our imaginations. These photos had the power to change public opinion – even the course of history. But if there are fewer memorable images today, it’s not because there are fewer good images: It’s because there are so many. No one image gets to be special for long. Cameras are everywhere – a situation that is transforming the way we experience dramatic events. When there are major political events or natural disasters, it is ordinary citizens with cell phones – not photojournalists – who often provide the first news images. Quality still matters, but it’s less important than what’s instantly shared. As people everywhere embrace photography and the media make use of citizen journalist, professional standards appear to be shifting. In the past, most people trusted photojournalists to accurately represent reality. Today, however, digital images can be altered in ways the naked eye might never notice. Any image can be altered to create an “improved” picture of reality. The average viewer is left with no way to assess the accuracy of an image except through trust in a news organization or photographer. The question of the accuracy of images gets even trickier when photojournalists start experimenting with camera apps – like Flickr or Instagram – which encourage the use of filters. Images can be colored, brightened, faded, and scratched to make photographs more artistic, or to give them an antique look. Photojournalists using camera apps to cover wars and conflicts have created powerful images – but also controversy. Critics worry that antique-looking photographs romanticize war, while distancing us from those who fight in them. Yet, photography has always been more subjective than we assume. Each picture is a result of a series of decisions – where to stand, what lens to use, and what to leave in or out of the frame. Does altering photographs with camera app filters make them less true? There’s something powerful and exciting about the experiment that the digital age has forced upon us. These new tools make it easier to tell our own stories, and they give others the power to do the same. Many members of the media get stuck on the same stories, focusing on elections, governments, wars, and disasters. In the process, they miss out on the less dramatic images of daily life that can be just as revealing and relevant. The increase in the number of photographs and photographers might even be good for democracy itself. Hundreds of millions of potential citizen journalists make the world smaller and help keep leaders honest. People can now show what they are up against, making it increasingly difficult for governments to hide their actions. If everyone has a camera, Big Brother isn’t the only one watching. Who knows? Our obsession with documentation and constantly being connected could lead to a radical change in our way of being. Perhaps we are witnessing the development of a universal visual language. It’s one that could change the way we relate to each other and the world. Of course, as with any language, there will be those who produce poetry and those who make shopping lists. It’s not clear whether this flowering of image-making will lead to a public that better appreciates and understands images. Or will it simply numb us to the profound effects a well-made image can have? Regardless, the change is irreversible. Let’s hope the millions of new photographs made today help us see what we all have in common, rather than what sets us apart.\n",
        "# \"\"\""
      ],
      "metadata": {
        "id": "ouZoHB5l2w_v"
      },
      "execution_count": null,
      "outputs": []
    },
    {
      "cell_type": "markdown",
      "source": [
        "# Wordcloud"
      ],
      "metadata": {
        "id": "Db17W_sv_XcW"
      }
    },
    {
      "cell_type": "code",
      "source": [
        "from wordcloud import WordCloud, STOPWORDS\n",
        "import matplotlib.pyplot as plt\n",
        "# text = nltk.corpus.gutenberg.raw('bible-kjv.txt')\n",
        "\n",
        "wc = WordCloud().generate(text) \n",
        "plt.imshow(wc)"
      ],
      "metadata": {
        "id": "Bo0zouNU_WQQ"
      },
      "execution_count": null,
      "outputs": []
    },
    {
      "cell_type": "markdown",
      "source": [
        "# Text Preprocessing:"
      ],
      "metadata": {
        "id": "cRu9lvAcCzxq"
      }
    },
    {
      "cell_type": "code",
      "source": [
        "# word_tokenize: separating punctuation as individual word items\n",
        "words = word_tokenize(text)\n",
        "print('Total words including punctuation: ', len(words))"
      ],
      "metadata": {
        "id": "I1uTwxtKsDVg"
      },
      "execution_count": null,
      "outputs": []
    },
    {
      "cell_type": "code",
      "source": [
        "# Without punctuation:\n",
        "wordlist = []\n",
        "\n",
        "for w in words:\n",
        "  if len(w) > 1:\n",
        "    wordlist.append(w)\n",
        "print('Total words: ', len(wordlist))\n",
        "print(wordlist)"
      ],
      "metadata": {
        "id": "cq5nHr_ts-fL"
      },
      "execution_count": null,
      "outputs": []
    },
    {
      "cell_type": "code",
      "source": [
        "# Lower case\n",
        "lowerword = []\n",
        "\n",
        "for w in wordlist:\n",
        "  w1 = w.lower()\n",
        "  lowerword.append(w1)\n",
        "print(lowerword)"
      ],
      "metadata": {
        "id": "vtPElTjcwAjw"
      },
      "execution_count": null,
      "outputs": []
    },
    {
      "cell_type": "code",
      "source": [
        "# # This separates hyphened words\n",
        "\n",
        "# from nltk.tokenize import RegexpTokenizer\n",
        "# retokenize = RegexpTokenizer(\"[\\w]+\")\n",
        "# words = retokenize.tokenize(text)\n",
        "# len(words)"
      ],
      "metadata": {
        "id": "XNjwy0vSup6b"
      },
      "execution_count": null,
      "outputs": []
    },
    {
      "cell_type": "markdown",
      "source": [
        "# Stopwords"
      ],
      "metadata": {
        "id": "izjmRCCCvjzM"
      }
    },
    {
      "cell_type": "code",
      "source": [
        "words = lowerword"
      ],
      "metadata": {
        "id": "CjVVDBIrxgDH"
      },
      "execution_count": null,
      "outputs": []
    },
    {
      "cell_type": "code",
      "source": [
        "from nltk.corpus import stopwords  \n",
        "nltk.download('stopwords')\n",
        "print(words)\n"
      ],
      "metadata": {
        "id": "2JKAq7WKvcYB"
      },
      "execution_count": null,
      "outputs": []
    },
    {
      "cell_type": "code",
      "source": [
        "# Removing stopwords: 'the' 'a' 'to' 'from' etc.\n",
        "\n",
        "words = [w for w in words if not w in stopwords.words('english')]\n",
        "print(words)\n",
        "print(len(words))"
      ],
      "metadata": {
        "id": "0MmlOTRBvpmN"
      },
      "execution_count": null,
      "outputs": []
    },
    {
      "cell_type": "markdown",
      "source": [
        "# Word frequency"
      ],
      "metadata": {
        "id": "4ONnyGBb6eft"
      }
    },
    {
      "cell_type": "code",
      "source": [
        "# Frequency distribution:\n",
        "\n",
        "fd = nltk.FreqDist(words).most_common(20)\n",
        "fd"
      ],
      "metadata": {
        "id": "CLn-w-z5xuxb"
      },
      "execution_count": null,
      "outputs": []
    },
    {
      "cell_type": "code",
      "source": [
        "# Low frequency words\n",
        "\n",
        "fd2 = nltk.FreqDist(words).most_common()[-20:]\n",
        "fd2"
      ],
      "metadata": {
        "id": "w3NnP4RyzKta"
      },
      "execution_count": null,
      "outputs": []
    },
    {
      "cell_type": "markdown",
      "source": [
        "# Word collocation & concordance"
      ],
      "metadata": {
        "id": "FFJ4-FCQDASc"
      }
    },
    {
      "cell_type": "code",
      "source": [
        "import re\n",
        "result = [w for w in words if re.search('^really', w)]\n",
        "fd3 = nltk.FreqDist(result); print('#really가 들어가는 단어수: %d'%len(fd3), 'types')"
      ],
      "metadata": {
        "id": "8nTSPstx0RUQ"
      },
      "execution_count": null,
      "outputs": []
    },
    {
      "cell_type": "code",
      "source": [
        "# Photo가 들어가는 단어 목록과 빈도:\n",
        "fd3"
      ],
      "metadata": {
        "colab": {
          "base_uri": "https://localhost:8080/"
        },
        "id": "bE7MYx-31epg",
        "outputId": "7d372581-d6e1-44ec-b556-9e0b922321d9"
      },
      "execution_count": null,
      "outputs": [
        {
          "output_type": "execute_result",
          "data": {
            "text/plain": [
              "FreqDist({'really': 72})"
            ]
          },
          "metadata": {},
          "execution_count": 23
        }
      ]
    },
    {
      "cell_type": "code",
      "source": [
        "# Concordance:\n",
        "words1 = text.split()\n",
        "nltk.Text(words1).concordance('really', 89, 10)"
      ],
      "metadata": {
        "id": "snyT5pjc66QY"
      },
      "execution_count": null,
      "outputs": []
    },
    {
      "cell_type": "code",
      "source": [
        "words1 = text.split()\n",
        "nltk.Text(words1).concordance('really', 89, 72)"
      ],
      "metadata": {
        "id": "4-magbtU7_1U"
      },
      "execution_count": null,
      "outputs": []
    },
    {
      "cell_type": "code",
      "source": [
        "nltk.Text(words1).collocations()"
      ],
      "metadata": {
        "id": "LbD1FOuF60Nq"
      },
      "execution_count": null,
      "outputs": []
    },
    {
      "cell_type": "code",
      "source": [
        "# text2 = text.replace(\"cameras\",\"camera\")\n",
        "# text3 = text2.replace(\"photographs\",\"photograph\")\n",
        "# words3 = text3.split()\n",
        "# print(words3)"
      ],
      "metadata": {
        "colab": {
          "base_uri": "https://localhost:8080/"
        },
        "id": "3mwJ5BIG87Yb",
        "outputId": "4ddca4bb-ebd2-4d68-ffbd-de41a3e8cbd3"
      },
      "execution_count": null,
      "outputs": [
        {
          "output_type": "stream",
          "name": "stdout",
          "text": [
            "['The', 'visual', 'village', 'Before', 'the', 'age', 'of', 'the', 'smartphone,', 'aspiring', 'photographers', 'had', 'to', 'learn', 'how', 'to', 'use', 'high-tech', 'camera', 'and', 'photographic', 'techniques.', 'Not', 'everyone', 'had', 'camera,', 'and', 'it', 'took', 'skill', 'and', 'a', 'good', 'eye', 'to', 'capture', 'and', 'create', 'a', 'great', 'photograph.', 'Today,', 'with', 'the', 'huge', 'range', 'of', 'camera', 'apps', 'on', 'our', 'smartphones,', 'we', 'are', 'all', 'amateur', 'photographers.', 'And', 'pretty', 'good', 'ones,', 'too:', 'The', 'quality', 'of', 'smartphone', 'images', 'now', 'nearly', 'equals', 'that', 'of', 'digital', 'camera.', 'The', 'new', 'ease', 'of', 'photography', 'has', 'given', 'us', 'a', 'tremendous', 'appetite', 'for', 'capturing', 'the', 'magical', 'and', 'the', 'ordinary.', 'We', 'are', 'obsessed', 'with', 'documenting', 'everyday', 'moments,', 'whether', 'it’s', 'a', 'shot', 'of', 'our', 'breakfast,', 'our', 'cat', '–', 'or', 'our', 'cat’s', 'breakfast.', 'And', 'rather', 'than', 'collect', 'pictures', 'in', 'scrapbooks,', 'we', 'share,', 'like,', 'and', 'comment', 'on', 'them', 'with', 'friends', 'and', 'strangers', 'around', 'the', 'globe.', 'Even', 'photojournalists', 'are', 'experimenting', 'with', 'cell', 'phones', 'because', 'their', 'near', 'invisibility', 'makes', 'it', 'easier', 'to', 'capture', 'unguarded', 'media.', 'They', 'can', 'now', 'act', 'as', 'their', 'own', 'publishers', '–', 'reaching', 'huge', 'audiences', 'via', 'social', 'media', 'sites', 'such', 'as', 'Instagram.', 'A', 'photograph', 'taken', 'in', 'New', 'York', 'can', 'get', 'a', 'response', 'from', 'someone', 'in', 'Lagos', 'within', 'a', 'second', 'of', 'being', 'uploaded.', 'In', 'the', 'past,', 'magazines', 'published', 'unforgettable', 'photos', 'of', 'important', 'people', 'and', 'global', 'events', 'that', 'captured', 'our', 'imaginations.', 'These', 'photos', 'had', 'the', 'power', 'to', 'change', 'public', 'opinion', '–', 'even', 'the', 'course', 'of', 'history.', 'But', 'if', 'there', 'are', 'fewer', 'memorable', 'images', 'today,', 'it’s', 'not', 'because', 'there', 'are', 'fewer', 'good', 'images:', 'It’s', 'because', 'there', 'are', 'so', 'many.', 'No', 'one', 'image', 'gets', 'to', 'be', 'special', 'for', 'long.', 'Cameras', 'are', 'everywhere', '–', 'a', 'situation', 'that', 'is', 'transforming', 'the', 'way', 'we', 'experience', 'dramatic', 'events.', 'When', 'there', 'are', 'major', 'political', 'events', 'or', 'natural', 'disasters,', 'it', 'is', 'ordinary', 'citizens', 'with', 'cell', 'phones', '–', 'not', 'photojournalists', '–', 'who', 'often', 'provide', 'the', 'first', 'news', 'images.', 'Quality', 'still', 'matters,', 'but', 'it’s', 'less', 'important', 'than', 'what’s', 'instantly', 'shared.', 'As', 'people', 'everywhere', 'embrace', 'photography', 'and', 'the', 'media', 'make', 'use', 'of', 'citizen', 'journalist,', 'professional', 'standards', 'appear', 'to', 'be', 'shifting.', 'In', 'the', 'past,', 'most', 'people', 'trusted', 'photojournalists', 'to', 'accurately', 'represent', 'reality.', 'Today,', 'however,', 'digital', 'images', 'can', 'be', 'altered', 'in', 'ways', 'the', 'naked', 'eye', 'might', 'never', 'notice.', 'Any', 'image', 'can', 'be', 'altered', 'to', 'create', 'an', '“improved”', 'picture', 'of', 'reality.', 'The', 'average', 'viewer', 'is', 'left', 'with', 'no', 'way', 'to', 'assess', 'the', 'accuracy', 'of', 'an', 'image', 'except', 'through', 'trust', 'in', 'a', 'news', 'organization', 'or', 'photographer.', 'The', 'question', 'of', 'the', 'accuracy', 'of', 'images', 'gets', 'even', 'trickier', 'when', 'photojournalists', 'start', 'experimenting', 'with', 'camera', 'apps', '–', 'like', 'Flickr', 'or', 'Instagram', '–', 'which', 'encourage', 'the', 'use', 'of', 'filters.', 'Images', 'can', 'be', 'colored,', 'brightened,', 'faded,', 'and', 'scratched', 'to', 'make', 'photograph', 'more', 'artistic,', 'or', 'to', 'give', 'them', 'an', 'antique', 'look.', 'Photojournalists', 'using', 'camera', 'apps', 'to', 'cover', 'wars', 'and', 'conflicts', 'have', 'created', 'powerful', 'images', '–', 'but', 'also', 'controversy.', 'Critics', 'worry', 'that', 'antique-looking', 'photograph', 'romanticize', 'war,', 'while', 'distancing', 'us', 'from', 'those', 'who', 'fight', 'in', 'them.', 'Yet,', 'photography', 'has', 'always', 'been', 'more', 'subjective', 'than', 'we', 'assume.', 'Each', 'picture', 'is', 'a', 'result', 'of', 'a', 'series', 'of', 'decisions', '–', 'where', 'to', 'stand,', 'what', 'lens', 'to', 'use,', 'and', 'what', 'to', 'leave', 'in', 'or', 'out', 'of', 'the', 'frame.', 'Does', 'altering', 'photograph', 'with', 'camera', 'app', 'filters', 'make', 'them', 'less', 'true?', 'There’s', 'something', 'powerful', 'and', 'exciting', 'about', 'the', 'experiment', 'that', 'the', 'digital', 'age', 'has', 'forced', 'upon', 'us.', 'These', 'new', 'tools', 'make', 'it', 'easier', 'to', 'tell', 'our', 'own', 'stories,', 'and', 'they', 'give', 'others', 'the', 'power', 'to', 'do', 'the', 'same.', 'Many', 'members', 'of', 'the', 'media', 'get', 'stuck', 'on', 'the', 'same', 'stories,', 'focusing', 'on', 'elections,', 'governments,', 'wars,', 'and', 'disasters.', 'In', 'the', 'process,', 'they', 'miss', 'out', 'on', 'the', 'less', 'dramatic', 'images', 'of', 'daily', 'life', 'that', 'can', 'be', 'just', 'as', 'revealing', 'and', 'relevant.', 'The', 'increase', 'in', 'the', 'number', 'of', 'photograph', 'and', 'photographers', 'might', 'even', 'be', 'good', 'for', 'democracy', 'itself.', 'Hundreds', 'of', 'millions', 'of', 'potential', 'citizen', 'journalists', 'make', 'the', 'world', 'smaller', 'and', 'help', 'keep', 'leaders', 'honest.', 'People', 'can', 'now', 'show', 'what', 'they', 'are', 'up', 'against,', 'making', 'it', 'increasingly', 'difficult', 'for', 'governments', 'to', 'hide', 'their', 'actions.', 'If', 'everyone', 'has', 'a', 'camera,', 'Big', 'Brother', 'isn’t', 'the', 'only', 'one', 'watching.', 'Who', 'knows?', 'Our', 'obsession', 'with', 'documentation', 'and', 'constantly', 'being', 'connected', 'could', 'lead', 'to', 'a', 'radical', 'change', 'in', 'our', 'way', 'of', 'being.', 'Perhaps', 'we', 'are', 'witnessing', 'the', 'development', 'of', 'a', 'universal', 'visual', 'language.', 'It’s', 'one', 'that', 'could', 'change', 'the', 'way', 'we', 'relate', 'to', 'each', 'other', 'and', 'the', 'world.', 'Of', 'course,', 'as', 'with', 'any', 'language,', 'there', 'will', 'be', 'those', 'who', 'produce', 'poetry', 'and', 'those', 'who', 'make', 'shopping', 'lists.', 'It’s', 'not', 'clear', 'whether', 'this', 'flowering', 'of', 'image-making', 'will', 'lead', 'to', 'a', 'public', 'that', 'better', 'appreciates', 'and', 'understands', 'images.', 'Or', 'will', 'it', 'simply', 'numb', 'us', 'to', 'the', 'profound', 'effects', 'a', 'well-made', 'image', 'can', 'have?', 'Regardless,', 'the', 'change', 'is', 'irreversible.', 'Let’s', 'hope', 'the', 'millions', 'of', 'new', 'photograph', 'made', 'today', 'help', 'us', 'see', 'what', 'we', 'all', 'have', 'in', 'common,', 'rather', 'than', 'what', 'sets', 'us', 'apart.']\n"
          ]
        }
      ]
    },
    {
      "cell_type": "code",
      "source": [
        "nltk.Text(words1).dispersion_plot([\"people\",\"one\",\"us\",\"really\"])"
      ],
      "metadata": {
        "id": "JBtjcYJE8dak"
      },
      "execution_count": null,
      "outputs": []
    },
    {
      "cell_type": "markdown",
      "source": [
        "# Additional"
      ],
      "metadata": {
        "id": "g8-8lH7hGCiU"
      }
    },
    {
      "cell_type": "code",
      "source": [
        "# longest words\n",
        "\n",
        "print(len(words))\n",
        "\n",
        "print('Longest word: ', max(len(w) for w in words), 'letters')\n"
      ],
      "metadata": {
        "id": "XNPBGcrZGBoE"
      },
      "execution_count": null,
      "outputs": []
    },
    {
      "cell_type": "code",
      "source": [
        "fd = nltk.FreqDist(words)\n",
        "fd\n",
        "\n",
        "wlist = []\n",
        "\n",
        "for w in fd:\n",
        "  if len(w) > 15:\n",
        "    wlist.append(w)\n",
        "    print(w)\n",
        "\n",
        "print('총: ',len(wlist), '개 단어')"
      ],
      "metadata": {
        "id": "xrxMsH4zHW_E"
      },
      "execution_count": null,
      "outputs": []
    },
    {
      "cell_type": "code",
      "source": [
        "fd = nltk.FreqDist(words)\n",
        "fd\n",
        "len(fd)\n",
        "\n",
        "\n",
        "# for i in len(fd):\n",
        "#   if fd[i] > 10:\n",
        "#     print(fd[i])\n"
      ],
      "metadata": {
        "id": "gZiGg-JgIyEf"
      },
      "execution_count": null,
      "outputs": []
    },
    {
      "cell_type": "code",
      "source": [
        "import pandas\n"
      ],
      "metadata": {
        "id": "vHRBYq4Xa5GR"
      },
      "execution_count": null,
      "outputs": []
    },
    {
      "cell_type": "code",
      "source": [
        "flist = pd.DataFrame.from_dict(fd, orient='index').T\n",
        "print(flist)"
      ],
      "metadata": {
        "id": "3VjswHmZa8th"
      },
      "execution_count": null,
      "outputs": []
    },
    {
      "cell_type": "code",
      "source": [
        "flist.to_csv('filename.csv', index=False)\n",
        "\n",
        "#index =false removes unnecessary indexing/numbering in the csv"
      ],
      "metadata": {
        "id": "v0j3MBNCabNR"
      },
      "execution_count": null,
      "outputs": []
    }
  ]
}